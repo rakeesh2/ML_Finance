{
 "cells": [
  {
   "cell_type": "code",
   "execution_count": 40,
   "metadata": {},
   "outputs": [],
   "source": [
    "import pandas as pd\n",
    "import numpy as np\n",
    "import matplotlib.pyplot as plt\n",
    "from sklearn.preprocessing import StandardScaler\n",
    "from sklearn.neural_network import MLPClassifier\n",
    "from sklearn.model_selection import GridSearchCV\n",
    "import datetime as dt"
   ]
  },
  {
   "cell_type": "code",
   "execution_count": 4,
   "metadata": {},
   "outputs": [],
   "source": [
    "X_train = pd.read_csv(\"X_train.csv\", sep=',')\n",
    "Y_train = pd.read_csv(\"Y_train.csv\", sep =',')\n",
    "\n",
    "#Exclude index out of CSV file from matrix\n",
    "X_train = X_train.iloc[:, 1:]\n",
    "Y_train = Y_train.iloc[:, 1:]\n",
    "\n",
    "#factorize the ratings train set\n",
    "Y_train = Y_train[\"Rating as Factor\"].astype(\"category\")\n",
    "Y_train = pd.DataFrame(Y_train, columns=[\"Rating as Factor\"])\n",
    "\n",
    "#Same as above but for test set\n",
    "X_test = pd.read_csv(\"X_test.csv\", sep=',')\n",
    "Y_test = pd.read_csv(\"Y_test.csv\", sep =',')\n",
    "\n",
    "#Exclude index out of CSV file from matrix\n",
    "X_test = X_test.iloc[:, 1:]\n",
    "Y_test = Y_test.iloc[:, 1:]\n",
    "\n",
    "#factorize the ratings for test set\n",
    "Y_test = Y_test[\"Rating as Factor\"].astype(\"category\")\n",
    "Y_test = pd.DataFrame(Y_test, columns=[\"Rating as Factor\"])"
   ]
  },
  {
   "cell_type": "code",
   "execution_count": 5,
   "metadata": {},
   "outputs": [],
   "source": [
    "#Stadardize Feature Matrix \n",
    "\n",
    "stdsc = StandardScaler()\n",
    "X_train_std = stdsc.fit_transform(X_train.iloc[:,:])  # fit & transform\n",
    "X_test_std  = stdsc.transform(X_test.iloc[:,:])  # ONLY transform"
   ]
  },
  {
   "cell_type": "code",
   "execution_count": 50,
   "metadata": {},
   "outputs": [],
   "source": [
    "def neural(x_train, y_train, x_test, y_test):\n",
    "    \"\"\"Apply Neural Network Classifier and get test score on test set.\n",
    "    \n",
    "    Args:\n",
    "        x_train: train feature matrix\n",
    "        y_train: train classification input\n",
    "        x_test: test feature matrix\n",
    "        y_test: test classification input\n",
    "    \"\"\"\n",
    "    #Measure Starting time\n",
    "    start = dt.datetime.now()\n",
    "    # Create classifier object and fit it to data\n",
    "    neural = MLPClassifier(random_state=0)\n",
    "    neural.fit(x_train, y_train)\n",
    "    \n",
    "    # Print test score \n",
    "    print('Test accuracy: {0: .4f}'.format(neural.score(x_test, y_test)))\n",
    "    \n",
    "    #Measure Ending time\n",
    "    end = dt.datetime.now()\n",
    "    \n",
    "    #Print Time passed for code execution\n",
    "    print(\"Time needed: \" + str(end - start))"
   ]
  },
  {
   "cell_type": "code",
   "execution_count": 51,
   "metadata": {},
   "outputs": [
    {
     "name": "stderr",
     "output_type": "stream",
     "text": [
      "/Users/Rak/opt/anaconda3/lib/python3.7/site-packages/sklearn/neural_network/multilayer_perceptron.py:921: DataConversionWarning: A column-vector y was passed when a 1d array was expected. Please change the shape of y to (n_samples, ), for example using ravel().\n",
      "  y = column_or_1d(y, warn=True)\n"
     ]
    },
    {
     "name": "stdout",
     "output_type": "stream",
     "text": [
      "Test accuracy:  0.4476\n",
      "Time needed: 0:00:07.533557\n"
     ]
    }
   ],
   "source": [
    "#Test function on unscaled feature matrix\n",
    "neural(X_train, Y_train, X_test, Y_test)"
   ]
  },
  {
   "cell_type": "code",
   "execution_count": 42,
   "metadata": {
    "scrolled": true
   },
   "outputs": [
    {
     "name": "stderr",
     "output_type": "stream",
     "text": [
      "/Users/Rak/opt/anaconda3/lib/python3.7/site-packages/sklearn/neural_network/multilayer_perceptron.py:921: DataConversionWarning: A column-vector y was passed when a 1d array was expected. Please change the shape of y to (n_samples, ), for example using ravel().\n",
      "  y = column_or_1d(y, warn=True)\n"
     ]
    },
    {
     "name": "stdout",
     "output_type": "stream",
     "text": [
      "Test accuracy:  0.8247\n",
      "Time needed: 0:00:20.763870\n"
     ]
    },
    {
     "name": "stderr",
     "output_type": "stream",
     "text": [
      "/Users/Rak/opt/anaconda3/lib/python3.7/site-packages/sklearn/neural_network/multilayer_perceptron.py:566: ConvergenceWarning: Stochastic Optimizer: Maximum iterations (200) reached and the optimization hasn't converged yet.\n",
      "  % self.max_iter, ConvergenceWarning)\n"
     ]
    }
   ],
   "source": [
    "#Test function on scaled feature matrix, better results\n",
    "neural(X_train_std, Y_train, X_test_std, Y_test)"
   ]
  },
  {
   "cell_type": "code",
   "execution_count": 45,
   "metadata": {},
   "outputs": [],
   "source": [
    "#Define arrays of values to be tested for paramgrid inside GridSearchCV function\n",
    "\n",
    "#The ith element represents the number of neurons in the ith hidden layer.\n",
    "hidden_lay = np.array([400])\n",
    "\n",
    "# Max number of iterations\n",
    "max_Iter = np.array([550])"
   ]
  },
  {
   "cell_type": "code",
   "execution_count": 53,
   "metadata": {},
   "outputs": [],
   "source": [
    "def neural_g(x_train, y_train, x_test, y_test, hidden_layer, maxIter):\n",
    "    \"\"\" Apply GridSearchCV with Neural Network Classifier. Best CV score, Test score and best parameters will be printed out.\n",
    "    \n",
    "    Args:\n",
    "        x: train feature matrix\n",
    "        y: train classification input\n",
    "        x_test: test feature matrix\n",
    "        y_test: test classification input\n",
    "        hidden_layer: array of values which will be tested for variable hidden_layer_sizes\n",
    "        maxIter: array of values which will be tested for variable max_iter\n",
    "        \n",
    "    \"\"\"\n",
    "    \n",
    "    #Measure Starting time\n",
    "    start = dt.datetime.now()\n",
    "    \n",
    "    # Define the hyperparameter values to be tested\n",
    "    param_grid = {\"hidden_layer_sizes\" : hidden_layer,\n",
    "                  'max_iter': maxIter},\n",
    "\n",
    "\n",
    "    # Run brute-force grid search\n",
    "    #solver \"lbfgs\" has proven to be the best\n",
    "    gs = GridSearchCV(estimator=MLPClassifier(random_state=0, solver= \"lbfgs\", warm_start= True),\n",
    "                  param_grid=param_grid,\n",
    "                  scoring='accuracy',\n",
    "                  cv= 5, n_jobs=-1)\n",
    "    gs = gs.fit(x_train, y_train)\n",
    "    \n",
    "    print('Best CV accuracy: {:.2f}'.format(gs.best_score_))\n",
    "    print('Test score:       {:.2f}'.format(gs.score(x_test, y_test)))\n",
    "    print('Best parameters: {}'.format(gs.best_params_))\n",
    "    \n",
    "    #Measure Ending time\n",
    "    end = dt.datetime.now()\n",
    "    \n",
    "    #Print Time passed for code execution\n",
    "    print(\"Time needed: \" + str(end - start))"
   ]
  },
  {
   "cell_type": "code",
   "execution_count": 48,
   "metadata": {
    "scrolled": true
   },
   "outputs": [
    {
     "name": "stderr",
     "output_type": "stream",
     "text": [
      "/Users/Rak/opt/anaconda3/lib/python3.7/site-packages/sklearn/neural_network/multilayer_perceptron.py:921: DataConversionWarning: A column-vector y was passed when a 1d array was expected. Please change the shape of y to (n_samples, ), for example using ravel().\n",
      "  y = column_or_1d(y, warn=True)\n"
     ]
    },
    {
     "name": "stdout",
     "output_type": "stream",
     "text": [
      "Best CV accuracy: 0.96\n",
      "Test score:       0.97\n",
      "Best parameters: {'hidden_layer_sizes': 400, 'learning_rate': 'constant', 'max_iter': 550}\n",
      "Time needed: 0:10:27.147516\n"
     ]
    }
   ],
   "source": [
    "neural_g(X_train_std, Y_train, X_test_std, Y_test, hidden_lay, max_Iter)"
   ]
  },
  {
   "cell_type": "code",
   "execution_count": null,
   "metadata": {},
   "outputs": [],
   "source": []
  }
 ],
 "metadata": {
  "kernelspec": {
   "display_name": "Python 3",
   "language": "python",
   "name": "python3"
  },
  "language_info": {
   "codemirror_mode": {
    "name": "ipython",
    "version": 3
   },
   "file_extension": ".py",
   "mimetype": "text/x-python",
   "name": "python",
   "nbconvert_exporter": "python",
   "pygments_lexer": "ipython3",
   "version": "3.7.4"
  }
 },
 "nbformat": 4,
 "nbformat_minor": 2
}
