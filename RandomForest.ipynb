{
 "cells": [
  {
   "cell_type": "code",
   "execution_count": 1,
   "metadata": {},
   "outputs": [],
   "source": [
    "import pandas as pd\n",
    "import numpy as np\n",
    "import matplotlib.pyplot as plt\n",
    "from sklearn.ensemble import RandomForestClassifier\n",
    "from sklearn.preprocessing import StandardScaler\n",
    "from sklearn.model_selection import GridSearchCV"
   ]
  },
  {
   "cell_type": "code",
   "execution_count": 2,
   "metadata": {},
   "outputs": [],
   "source": [
    "X_train = pd.read_csv(\"X_train.csv\", sep=',')\n",
    "Y_train = pd.read_csv(\"Y_train.csv\", sep =',')\n",
    "\n",
    "#Exclude index out of CSV file from matrix\n",
    "X_train = X_train.iloc[:, 1:]\n",
    "Y_train = Y_train.iloc[:, 1:]\n",
    "\n",
    "#factorize the ratings train set\n",
    "Y_train = Y_train[\"Rating as Factor\"].astype(\"category\")\n",
    "Y_train = pd.DataFrame(Y_train, columns=[\"Rating as Factor\"])\n",
    "\n",
    "#Same as above but for test set\n",
    "X_test = pd.read_csv(\"X_test.csv\", sep=',')\n",
    "Y_test = pd.read_csv(\"Y_test.csv\", sep =',')\n",
    "\n",
    "#Exclude index out of CSV file from matrix\n",
    "X_test = X_test.iloc[:, 1:]\n",
    "Y_test = Y_test.iloc[:, 1:]\n",
    "\n",
    "#factorize the ratings for test set\n",
    "Y_test = Y_test[\"Rating as Factor\"].astype(\"category\")\n",
    "Y_test = pd.DataFrame(Y_test, columns=[\"Rating as Factor\"])\n"
   ]
  },
  {
   "cell_type": "code",
   "execution_count": 3,
   "metadata": {},
   "outputs": [],
   "source": [
    "#Define function for RandomForestClassifier\n",
    "def random_forest(x_train, y_train, x_test, y_test):\n",
    "    \"\"\"Apply RandomForestClassifier and get test score on test set.\n",
    "    \n",
    "    Args:\n",
    "        x_train: train feature matrix\n",
    "        y_train: train classification input\n",
    "        x_test: test feature matrix\n",
    "        y_test: test classification input\n",
    "    \"\"\"\n",
    "    # Create classifier object and fit it to data\n",
    "    forest = RandomForestClassifier(criterion='gini', random_state=0, n_jobs=-1)\n",
    "    forest.fit(x_train, y_train)\n",
    "    \n",
    "    # Print test score \n",
    "    print('Test accuracy: {0: .4f}'.format(forest.score(x_test, y_test)))"
   ]
  },
  {
   "cell_type": "code",
   "execution_count": 4,
   "metadata": {
    "scrolled": false
   },
   "outputs": [
    {
     "name": "stderr",
     "output_type": "stream",
     "text": [
      "/Users/Rak/opt/anaconda3/lib/python3.7/site-packages/sklearn/ensemble/forest.py:245: FutureWarning: The default value of n_estimators will change from 10 in version 0.20 to 100 in 0.22.\n",
      "  \"10 in version 0.20 to 100 in 0.22.\", FutureWarning)\n",
      "/Users/Rak/opt/anaconda3/lib/python3.7/site-packages/ipykernel_launcher.py:13: DataConversionWarning: A column-vector y was passed when a 1d array was expected. Please change the shape of y to (n_samples,), for example using ravel().\n",
      "  del sys.path[0]\n"
     ]
    },
    {
     "name": "stdout",
     "output_type": "stream",
     "text": [
      "Test accuracy:  0.9731\n"
     ]
    }
   ],
   "source": [
    "#Use function on our datasets\n",
    "random_forest(X_train, Y_train, X_test, Y_test)"
   ]
  },
  {
   "cell_type": "code",
   "execution_count": 5,
   "metadata": {},
   "outputs": [],
   "source": [
    "#Stadardize Feature Matrix \n",
    "\n",
    "stdsc = StandardScaler()\n",
    "X_train_std = stdsc.fit_transform(X_train.iloc[:,:])  # fit & transform\n",
    "X_test_std  = stdsc.transform(X_test.iloc[:,:])  # ONLY transform"
   ]
  },
  {
   "cell_type": "code",
   "execution_count": 6,
   "metadata": {},
   "outputs": [
    {
     "name": "stderr",
     "output_type": "stream",
     "text": [
      "/Users/Rak/opt/anaconda3/lib/python3.7/site-packages/sklearn/ensemble/forest.py:245: FutureWarning: The default value of n_estimators will change from 10 in version 0.20 to 100 in 0.22.\n",
      "  \"10 in version 0.20 to 100 in 0.22.\", FutureWarning)\n",
      "/Users/Rak/opt/anaconda3/lib/python3.7/site-packages/ipykernel_launcher.py:13: DataConversionWarning: A column-vector y was passed when a 1d array was expected. Please change the shape of y to (n_samples,), for example using ravel().\n",
      "  del sys.path[0]\n"
     ]
    },
    {
     "name": "stdout",
     "output_type": "stream",
     "text": [
      "Test accuracy:  0.9731\n"
     ]
    }
   ],
   "source": [
    "#Apply random forest function on standardized datasets\n",
    "random_forest(X_train_std, Y_train, X_test_std, Y_test)"
   ]
  },
  {
   "cell_type": "code",
   "execution_count": 11,
   "metadata": {},
   "outputs": [],
   "source": [
    "#Define arrays of values to be tested for paramgrid inside GridSearchCV function\n",
    "\n",
    "#number of trees in the forest\n",
    "n_estimators = np.array([70])\n",
    "\n",
    "# Max depth\n",
    "maxDepth = np.array([25])\n",
    "\n",
    "# Minimum number of samples required to split any internal node \n",
    "minSamplesNode = np.array([2, 3, 5, 7])\n",
    "\n",
    "# The minimum number of samples required to be at a leaf/terminal node\n",
    "minSamplesLeaf = np.array([1, 3, 5, 7])"
   ]
  },
  {
   "cell_type": "code",
   "execution_count": 12,
   "metadata": {},
   "outputs": [],
   "source": [
    "def random_forest_g(x_train, y_train, x_test, y_test, n_estimators, maxDepth, minSamplesNode, minSamplesLeaf):\n",
    "    \"\"\" Apply GridSearchCV with RandomForestClassifier. Test score and best parameters will be printed out.\n",
    "    \n",
    "    Args:\n",
    "        x: train feature matrix\n",
    "        y: train classification input\n",
    "        x_test: test feature matrix\n",
    "        y_test: test classification input\n",
    "        n_estimators: array of values which will be tested for variable n_estimators\n",
    "        maxDepth: array of values which will be tested for variable max_depth\n",
    "        minSamplesNode: array of values which will be tested for variable min_samples_split\n",
    "        minSamplesLeaf: array of values which will be tested for variable min_samples_leaf\n",
    "    \"\"\"\n",
    "    # Define the hyperparameter values to be tested\n",
    "    param_grid = {'criterion': ['gini', 'entropy'],\n",
    "                  \"n_estimators\": n_estimators,\n",
    "                  'max_depth': maxDepth,\n",
    "                  'min_samples_split': minSamplesNode,\n",
    "                  'min_samples_leaf': minSamplesLeaf},\n",
    "\n",
    "    # Run brute-force grid search\n",
    "    gs = GridSearchCV(estimator=RandomForestClassifier(random_state=0),\n",
    "                  param_grid=param_grid,\n",
    "                  scoring='accuracy',\n",
    "                  cv= 5, n_jobs=-1)\n",
    "    gs = gs.fit(x_train, y_train)\n",
    "    \n",
    "    print('Best CV accuracy: {:.2f}'.format(gs.best_score_))\n",
    "    print('Test score:       {:.2f}'.format(gs.score(x_test, y_test)))\n",
    "    print('Best parameters: {}'.format(gs.best_params_))"
   ]
  },
  {
   "cell_type": "code",
   "execution_count": 13,
   "metadata": {
    "scrolled": true
   },
   "outputs": [
    {
     "name": "stderr",
     "output_type": "stream",
     "text": [
      "/Users/Rak/opt/anaconda3/lib/python3.7/site-packages/sklearn/model_selection/_search.py:715: DataConversionWarning: A column-vector y was passed when a 1d array was expected. Please change the shape of y to (n_samples,), for example using ravel().\n",
      "  self.best_estimator_.fit(X, y, **fit_params)\n"
     ]
    },
    {
     "name": "stdout",
     "output_type": "stream",
     "text": [
      "Best CV accuracy: 0.97\n",
      "Test score:       0.98\n",
      "Best parameters: {'criterion': 'gini', 'max_depth': 25, 'min_samples_leaf': 1, 'min_samples_split': 2, 'n_estimators': 70}\n"
     ]
    }
   ],
   "source": [
    "random_forest_g(x_train = X_train, y_train = Y_train, x_test = X_test, y_test = Y_test, n_estimators = n_estimators, maxDepth = maxDepth, minSamplesNode = minSamplesNode, minSamplesLeaf = minSamplesLeaf)"
   ]
  },
  {
   "cell_type": "code",
   "execution_count": null,
   "metadata": {},
   "outputs": [],
   "source": []
  }
 ],
 "metadata": {
  "kernelspec": {
   "display_name": "Python 3",
   "language": "python",
   "name": "python3"
  },
  "language_info": {
   "codemirror_mode": {
    "name": "ipython",
    "version": 3
   },
   "file_extension": ".py",
   "mimetype": "text/x-python",
   "name": "python",
   "nbconvert_exporter": "python",
   "pygments_lexer": "ipython3",
   "version": "3.7.4"
  }
 },
 "nbformat": 4,
 "nbformat_minor": 2
}
